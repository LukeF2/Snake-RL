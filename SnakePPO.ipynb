{
  "cells": [
    {
      "cell_type": "code",
      "execution_count": null,
      "metadata": {
        "colab": {
          "base_uri": "https://localhost:8080/"
        },
        "id": "twTe7tJQlpnj",
        "outputId": "ef58eded-ed9c-4641-cfa0-cef16bf618de"
      },
      "outputs": [
        {
          "output_type": "stream",
          "name": "stdout",
          "text": [
            "Mounted at /content/drive\n"
          ]
        }
      ],
      "source": [
        "from google.colab import drive\n",
        "drive.mount('/content/drive')\n"
      ]
    },
    {
      "cell_type": "code",
      "execution_count": null,
      "metadata": {
        "id": "SOxTu5t5lx86"
      },
      "outputs": [],
      "source": [
        "# Luke's CD\n",
        "\n",
        "import os, sys\n",
        "%cd \"/content/drive/MyDrive/CSCI181V - Final Project\"\n",
        "\n",
        "# add the current directory to the Python module search path\n",
        "sys.path.append(os.getcwd())\n"
      ]
    },
    {
      "cell_type": "code",
      "execution_count": null,
      "metadata": {
        "colab": {
          "base_uri": "https://localhost:8080/"
        },
        "id": "Jw4_cDrZmKOD",
        "outputId": "ad0124d6-b2b7-407b-8bd7-7d010bc3a605"
      },
      "outputs": [
        {
          "output_type": "stream",
          "name": "stdout",
          "text": [
            "/content/drive/.shortcut-targets-by-id/1XD8rITyzVB-Y5GCzpzGaIV4b9nN_PN3m/CSCI181V - Final Project\n"
          ]
        }
      ],
      "source": [
        "# Vikram's CD\n",
        "\n",
        "import os, sys\n",
        "%cd \"/content/drive/MyDrive/Senior Year/Spring Semester/Reinforcement Learning/CSCI181V - Final Project\"\n",
        "\n",
        "# add the current directory to the Python module search path\n",
        "sys.path.append(os.getcwd())\n"
      ]
    },
    {
      "cell_type": "code",
      "execution_count": null,
      "metadata": {
        "id": "1DKFVBTvlzN_",
        "colab": {
          "base_uri": "https://localhost:8080/"
        },
        "outputId": "399784c6-34d2-45a1-c431-1aa80317b49d"
      },
      "outputs": [
        {
          "output_type": "stream",
          "name": "stdout",
          "text": [
            "\u001b[2K   \u001b[90m━━━━━━━━━━━━━━━━━━━━━━━━━━━━━━━━━━━━━━━━\u001b[0m \u001b[32m363.4/363.4 MB\u001b[0m \u001b[31m3.9 MB/s\u001b[0m eta \u001b[36m0:00:00\u001b[0m\n",
            "\u001b[2K   \u001b[90m━━━━━━━━━━━━━━━━━━━━━━━━━━━━━━━━━━━━━━━━\u001b[0m \u001b[32m13.8/13.8 MB\u001b[0m \u001b[31m68.4 MB/s\u001b[0m eta \u001b[36m0:00:00\u001b[0m\n",
            "\u001b[2K   \u001b[90m━━━━━━━━━━━━━━━━━━━━━━━━━━━━━━━━━━━━━━━━\u001b[0m \u001b[32m24.6/24.6 MB\u001b[0m \u001b[31m36.4 MB/s\u001b[0m eta \u001b[36m0:00:00\u001b[0m\n",
            "\u001b[2K   \u001b[90m━━━━━━━━━━━━━━━━━━━━━━━━━━━━━━━━━━━━━━━━\u001b[0m \u001b[32m883.7/883.7 kB\u001b[0m \u001b[31m46.4 MB/s\u001b[0m eta \u001b[36m0:00:00\u001b[0m\n",
            "\u001b[2K   \u001b[90m━━━━━━━━━━━━━━━━━━━━━━━━━━━━━━━━━━━━━━━━\u001b[0m \u001b[32m664.8/664.8 MB\u001b[0m \u001b[31m1.3 MB/s\u001b[0m eta \u001b[36m0:00:00\u001b[0m\n",
            "\u001b[2K   \u001b[90m━━━━━━━━━━━━━━━━━━━━━━━━━━━━━━━━━━━━━━━━\u001b[0m \u001b[32m211.5/211.5 MB\u001b[0m \u001b[31m5.4 MB/s\u001b[0m eta \u001b[36m0:00:00\u001b[0m\n",
            "\u001b[2K   \u001b[90m━━━━━━━━━━━━━━━━━━━━━━━━━━━━━━━━━━━━━━━━\u001b[0m \u001b[32m56.3/56.3 MB\u001b[0m \u001b[31m12.1 MB/s\u001b[0m eta \u001b[36m0:00:00\u001b[0m\n",
            "\u001b[2K   \u001b[90m━━━━━━━━━━━━━━━━━━━━━━━━━━━━━━━━━━━━━━━━\u001b[0m \u001b[32m127.9/127.9 MB\u001b[0m \u001b[31m7.5 MB/s\u001b[0m eta \u001b[36m0:00:00\u001b[0m\n",
            "\u001b[2K   \u001b[90m━━━━━━━━━━━━━━━━━━━━━━━━━━━━━━━━━━━━━━━━\u001b[0m \u001b[32m207.5/207.5 MB\u001b[0m \u001b[31m5.4 MB/s\u001b[0m eta \u001b[36m0:00:00\u001b[0m\n",
            "\u001b[2K   \u001b[90m━━━━━━━━━━━━━━━━━━━━━━━━━━━━━━━━━━━━━━━━\u001b[0m \u001b[32m21.1/21.1 MB\u001b[0m \u001b[31m108.6 MB/s\u001b[0m eta \u001b[36m0:00:00\u001b[0m\n",
            "\u001b[?25h"
          ]
        }
      ],
      "source": [
        "!pip install gymnasium torch --quiet"
      ]
    },
    {
      "cell_type": "code",
      "execution_count": null,
      "metadata": {
        "id": "MC__sbfgl1CC"
      },
      "outputs": [],
      "source": [
        "import gymnasium as gym\n",
        "from gymnasium.envs.registration import register\n",
        "\n",
        "register(\n",
        "    id=\"Snake-10x10-v0\",                 # ASCII hyphens\n",
        "    entry_point=\"Snake:SnakeEnv\",        # file Snake.py (module) : class\n",
        "    max_episode_steps=400,\n",
        ")\n",
        "\n"
      ]
    },
    {
      "cell_type": "code",
      "execution_count": null,
      "metadata": {
        "id": "RdVAor9Il3ru"
      },
      "outputs": [],
      "source": [
        "env = gym.make(\"Snake-10x10-v0\")"
      ]
    },
    {
      "cell_type": "code",
      "execution_count": null,
      "metadata": {
        "colab": {
          "base_uri": "https://localhost:8080/"
        },
        "id": "bGsKFpYS80TL",
        "outputId": "b8fbff5b-9bb6-42c5-ccb3-3e690e31e0f5"
      },
      "outputs": [
        {
          "output_type": "stream",
          "name": "stdout",
          "text": [
            "Using cpu device\n"
          ]
        }
      ],
      "source": [
        "import random\n",
        "import numpy as np\n",
        "from collections import deque\n",
        "from typing import Deque, Tuple\n",
        "import torch\n",
        "import torch.nn as nn\n",
        "import torch.optim as optim\n",
        "from torch.distributions import Categorical\n",
        "import torch.nn.functional as F\n",
        "\n",
        "device = (torch.device(\"cpu\")\n",
        ")\n",
        "print(f\"Using {device} device\")"
      ]
    },
    {
      "cell_type": "code",
      "execution_count": null,
      "metadata": {
        "colab": {
          "base_uri": "https://localhost:8080/"
        },
        "id": "CfSest9yo6DQ",
        "outputId": "46440c07-0493-4b02-8f98-ffc8af18fc34"
      },
      "outputs": [
        {
          "output_type": "execute_result",
          "data": {
            "text/plain": [
              "<All keys matched successfully>"
            ]
          },
          "metadata": {},
          "execution_count": 7
        }
      ],
      "source": [
        "# Initializing PPO Networks\n",
        "\n",
        "class OneHotObsWrapper(gym.ObservationWrapper):\n",
        "    \"\"\"Convert 10 × 10 int grid → (4, 10, 10) one‑hot float tensor.\"\"\"\n",
        "\n",
        "    def __init__(self, env: gym.Env):\n",
        "        super().__init__(env)\n",
        "        h, w = env.observation_space.shape\n",
        "        self.observation_space = gym.spaces.Box(0.0, 1.0, shape=(4, h, w), dtype=np.float32)\n",
        "\n",
        "    def observation(self, obs):\n",
        "        one_hot = np.zeros((4, *obs.shape), dtype=np.float32)\n",
        "        for v in range(4):\n",
        "            one_hot[v][obs == v] = 1.0\n",
        "        return one_hot\n",
        "\n",
        "\n",
        "class PolicyNetwork(nn.Module):\n",
        "  def __init__(self, num_actions = 4):\n",
        "    super().__init__()\n",
        "    self.net = nn.Sequential(\n",
        "        nn.Conv2d(4, 32, kernel_size=3, padding=1),\n",
        "        nn.ReLU(),\n",
        "        nn.Conv2d(32, 64, kernel_size=3, padding=1),\n",
        "        nn.ReLU(),\n",
        "        nn.Flatten(),  # shape: (B, 64*10*10)\n",
        "        nn.Linear(64 * 10 * 10, 256),\n",
        "        nn.ReLU(),\n",
        "        nn.Linear(256, num_actions),\n",
        "        nn.Softmax(dim=-1)\n",
        "    )\n",
        "\n",
        "  def forward(self, x):\n",
        "    return self.net(x)  # shape: (batch_size, 4)\n",
        "\n",
        "class ValueNetwork(nn.Module):\n",
        "  def __init__(self):\n",
        "    super().__init__()\n",
        "    self.net = nn.Sequential(\n",
        "        nn.Conv2d(4, 32, kernel_size=3, padding=1),\n",
        "        nn.ReLU(),\n",
        "        nn.Conv2d(32, 64, kernel_size=3, padding=1),\n",
        "        nn.ReLU(),\n",
        "        nn.Flatten(),\n",
        "        nn.Linear(64 * 10 * 10, 256),\n",
        "        nn.ReLU(),\n",
        "        nn.Linear(256, 1)\n",
        "    )\n",
        "\n",
        "  def forward(self, x):\n",
        "      return self.net(x).squeeze(-1)  # shape: (batch_size,)\n",
        "\n",
        "pi = PolicyNetwork().to(device)\n",
        "V  = ValueNetwork().to(device)\n",
        "\n",
        "pi_optimizer = torch.optim.Adam(pi.parameters(), lr=3e-4)\n",
        "V_optimizer  = torch.optim.Adam(V.parameters(), lr=1e-3)\n",
        "\n",
        "pi_old = PolicyNetwork().to(device)\n",
        "pi_old.load_state_dict(pi.state_dict())"
      ]
    },
    {
      "cell_type": "code",
      "execution_count": null,
      "metadata": {
        "id": "rOPS0Nh82eOk"
      },
      "outputs": [],
      "source": [
        "env = OneHotObsWrapper(env)"
      ]
    },
    {
      "cell_type": "code",
      "execution_count": null,
      "metadata": {
        "colab": {
          "base_uri": "https://localhost:8080/"
        },
        "id": "yNY-sv6yAJ7u",
        "outputId": "e1f72e3c-b85b-4070-ef88-de0bb8bbaa32"
      },
      "outputs": [
        {
          "output_type": "stream",
          "name": "stdout",
          "text": [
            "Update 10/2000 | Avg Reward: -33.81\n",
            "Update 20/2000 | Avg Reward: -31.74\n",
            "Update 30/2000 | Avg Reward: -17.62\n",
            "Update 40/2000 | Avg Reward: -23.89\n",
            "Update 50/2000 | Avg Reward: -15.08\n",
            "Update 60/2000 | Avg Reward: -17.88\n",
            "Update 70/2000 | Avg Reward: -14.20\n",
            "Update 80/2000 | Avg Reward: -15.58\n",
            "Update 90/2000 | Avg Reward: -11.09\n",
            "Update 100/2000 | Avg Reward: -13.27\n",
            "Update 110/2000 | Avg Reward: -10.44\n",
            "Update 120/2000 | Avg Reward: -6.35\n",
            "Update 130/2000 | Avg Reward: -2.26\n",
            "Update 140/2000 | Avg Reward: -6.88\n",
            "Update 150/2000 | Avg Reward: -4.42\n",
            "Update 160/2000 | Avg Reward: -0.01\n",
            "Update 170/2000 | Avg Reward: -9.84\n",
            "Update 180/2000 | Avg Reward: -8.52\n",
            "Update 190/2000 | Avg Reward: -2.73\n",
            "Update 200/2000 | Avg Reward: -12.23\n",
            "Update 210/2000 | Avg Reward: -4.33\n",
            "Update 220/2000 | Avg Reward: -0.09\n",
            "Update 230/2000 | Avg Reward: -4.15\n",
            "Update 240/2000 | Avg Reward: -2.94\n",
            "Update 250/2000 | Avg Reward: -6.53\n",
            "Update 260/2000 | Avg Reward: 2.29\n",
            "Update 270/2000 | Avg Reward: 3.97\n",
            "Update 280/2000 | Avg Reward: 0.04\n",
            "Update 290/2000 | Avg Reward: 0.87\n",
            "Update 300/2000 | Avg Reward: -10.07\n",
            "Update 310/2000 | Avg Reward: -8.55\n",
            "Update 320/2000 | Avg Reward: 0.96\n",
            "Update 330/2000 | Avg Reward: -0.10\n",
            "Update 340/2000 | Avg Reward: -0.93\n",
            "Update 350/2000 | Avg Reward: 4.41\n",
            "Update 360/2000 | Avg Reward: 5.16\n",
            "Update 370/2000 | Avg Reward: -5.12\n",
            "Update 380/2000 | Avg Reward: -0.81\n",
            "Update 390/2000 | Avg Reward: 4.49\n",
            "Update 400/2000 | Avg Reward: -0.05\n",
            "Update 410/2000 | Avg Reward: -4.07\n",
            "Update 420/2000 | Avg Reward: 3.30\n",
            "Update 430/2000 | Avg Reward: -0.59\n",
            "Update 440/2000 | Avg Reward: -2.32\n",
            "Update 450/2000 | Avg Reward: 1.16\n",
            "Update 460/2000 | Avg Reward: 0.94\n",
            "Update 470/2000 | Avg Reward: -0.99\n",
            "Update 480/2000 | Avg Reward: 1.41\n",
            "Update 490/2000 | Avg Reward: 0.29\n",
            "Update 500/2000 | Avg Reward: 2.47\n",
            "Update 510/2000 | Avg Reward: 1.22\n",
            "Update 520/2000 | Avg Reward: -2.29\n",
            "Update 530/2000 | Avg Reward: 2.10\n",
            "Update 540/2000 | Avg Reward: 2.68\n",
            "Update 550/2000 | Avg Reward: 7.01\n",
            "Update 560/2000 | Avg Reward: 0.90\n",
            "Update 570/2000 | Avg Reward: 0.52\n",
            "Update 580/2000 | Avg Reward: 2.84\n",
            "Update 590/2000 | Avg Reward: -9.02\n",
            "Update 600/2000 | Avg Reward: -3.25\n",
            "Update 610/2000 | Avg Reward: 4.13\n",
            "Update 620/2000 | Avg Reward: -1.26\n",
            "Update 630/2000 | Avg Reward: 4.56\n",
            "Update 640/2000 | Avg Reward: 1.46\n",
            "Update 650/2000 | Avg Reward: -2.67\n",
            "Update 660/2000 | Avg Reward: -0.09\n",
            "Update 670/2000 | Avg Reward: 5.07\n",
            "Update 680/2000 | Avg Reward: 2.07\n",
            "Update 690/2000 | Avg Reward: 4.07\n",
            "Update 700/2000 | Avg Reward: 0.44\n",
            "Update 710/2000 | Avg Reward: 2.30\n",
            "Update 720/2000 | Avg Reward: 1.87\n",
            "Update 730/2000 | Avg Reward: 1.62\n",
            "Update 740/2000 | Avg Reward: -1.37\n",
            "Update 750/2000 | Avg Reward: 5.82\n",
            "Update 760/2000 | Avg Reward: 1.37\n",
            "Update 770/2000 | Avg Reward: 1.57\n",
            "Update 780/2000 | Avg Reward: 5.92\n",
            "Update 790/2000 | Avg Reward: 1.24\n",
            "Update 800/2000 | Avg Reward: -0.12\n",
            "Update 810/2000 | Avg Reward: 2.15\n",
            "Update 820/2000 | Avg Reward: -4.70\n",
            "Update 830/2000 | Avg Reward: 2.27\n",
            "Update 840/2000 | Avg Reward: 0.37\n",
            "Update 850/2000 | Avg Reward: 2.98\n",
            "Update 860/2000 | Avg Reward: 5.23\n",
            "Update 870/2000 | Avg Reward: 2.88\n",
            "Update 880/2000 | Avg Reward: -2.04\n",
            "Update 890/2000 | Avg Reward: -0.31\n",
            "Update 900/2000 | Avg Reward: 8.44\n",
            "Update 910/2000 | Avg Reward: 4.39\n",
            "Update 920/2000 | Avg Reward: -1.60\n",
            "Update 930/2000 | Avg Reward: 5.04\n",
            "Update 940/2000 | Avg Reward: 3.46\n",
            "Update 950/2000 | Avg Reward: 0.15\n",
            "Update 960/2000 | Avg Reward: -1.25\n",
            "Update 970/2000 | Avg Reward: 3.14\n",
            "Update 980/2000 | Avg Reward: 7.04\n",
            "Update 990/2000 | Avg Reward: 2.51\n",
            "Update 1000/2000 | Avg Reward: -5.09\n",
            "Update 1010/2000 | Avg Reward: 10.28\n",
            "Update 1020/2000 | Avg Reward: 0.95\n",
            "Update 1030/2000 | Avg Reward: 1.05\n",
            "Update 1040/2000 | Avg Reward: 7.41\n",
            "Update 1050/2000 | Avg Reward: 0.13\n",
            "Update 1060/2000 | Avg Reward: 5.03\n",
            "Update 1070/2000 | Avg Reward: 0.52\n",
            "Update 1080/2000 | Avg Reward: -0.97\n",
            "Update 1090/2000 | Avg Reward: 10.09\n",
            "Update 1100/2000 | Avg Reward: 1.29\n",
            "Update 1110/2000 | Avg Reward: 3.50\n",
            "Update 1120/2000 | Avg Reward: 2.89\n",
            "Update 1130/2000 | Avg Reward: 4.84\n",
            "Update 1140/2000 | Avg Reward: 4.25\n",
            "Update 1150/2000 | Avg Reward: -0.21\n",
            "Update 1160/2000 | Avg Reward: 2.07\n",
            "Update 1170/2000 | Avg Reward: 2.23\n",
            "Update 1180/2000 | Avg Reward: 8.16\n",
            "Update 1190/2000 | Avg Reward: 2.46\n",
            "Update 1200/2000 | Avg Reward: 5.52\n",
            "Update 1210/2000 | Avg Reward: 4.40\n",
            "Update 1220/2000 | Avg Reward: 0.88\n",
            "Update 1230/2000 | Avg Reward: -11.15\n",
            "Update 1240/2000 | Avg Reward: -8.03\n",
            "Update 1250/2000 | Avg Reward: 0.67\n",
            "Update 1260/2000 | Avg Reward: 0.48\n",
            "Update 1270/2000 | Avg Reward: 3.17\n",
            "Update 1280/2000 | Avg Reward: 2.46\n",
            "Update 1290/2000 | Avg Reward: 0.56\n",
            "Update 1300/2000 | Avg Reward: 4.66\n",
            "Update 1310/2000 | Avg Reward: 0.24\n",
            "Update 1320/2000 | Avg Reward: -3.71\n",
            "Update 1330/2000 | Avg Reward: -2.54\n",
            "Update 1340/2000 | Avg Reward: -8.11\n",
            "Update 1350/2000 | Avg Reward: 2.12\n",
            "Update 1360/2000 | Avg Reward: 7.08\n",
            "Update 1370/2000 | Avg Reward: 3.31\n",
            "Update 1380/2000 | Avg Reward: 6.09\n",
            "Update 1390/2000 | Avg Reward: 1.05\n",
            "Update 1400/2000 | Avg Reward: 8.35\n",
            "Update 1410/2000 | Avg Reward: 4.93\n",
            "Update 1420/2000 | Avg Reward: 4.77\n",
            "Update 1430/2000 | Avg Reward: -3.65\n",
            "Update 1440/2000 | Avg Reward: -0.46\n",
            "Update 1450/2000 | Avg Reward: 0.15\n",
            "Update 1460/2000 | Avg Reward: 5.56\n",
            "Update 1470/2000 | Avg Reward: 4.04\n",
            "Update 1480/2000 | Avg Reward: 1.83\n",
            "Update 1490/2000 | Avg Reward: 10.28\n",
            "Update 1500/2000 | Avg Reward: 5.46\n",
            "Update 1510/2000 | Avg Reward: 5.38\n",
            "Update 1520/2000 | Avg Reward: 10.04\n",
            "Update 1530/2000 | Avg Reward: 7.97\n",
            "Update 1540/2000 | Avg Reward: 8.24\n",
            "Update 1550/2000 | Avg Reward: 6.14\n",
            "Update 1560/2000 | Avg Reward: 4.14\n",
            "Update 1570/2000 | Avg Reward: 7.27\n",
            "Update 1580/2000 | Avg Reward: 1.27\n",
            "Update 1590/2000 | Avg Reward: 2.78\n",
            "Update 1600/2000 | Avg Reward: 3.21\n",
            "Update 1610/2000 | Avg Reward: 5.20\n",
            "Update 1620/2000 | Avg Reward: 3.94\n",
            "Update 1630/2000 | Avg Reward: 6.29\n",
            "Update 1640/2000 | Avg Reward: 0.81\n",
            "Update 1650/2000 | Avg Reward: 4.26\n",
            "Update 1660/2000 | Avg Reward: 3.76\n",
            "Update 1670/2000 | Avg Reward: 5.01\n",
            "Update 1680/2000 | Avg Reward: 3.84\n",
            "Update 1690/2000 | Avg Reward: 1.77\n",
            "Update 1700/2000 | Avg Reward: -0.60\n",
            "Update 1710/2000 | Avg Reward: 6.28\n",
            "Update 1720/2000 | Avg Reward: 1.15\n",
            "Update 1730/2000 | Avg Reward: 5.03\n",
            "Update 1740/2000 | Avg Reward: 1.10\n",
            "Update 1750/2000 | Avg Reward: 4.29\n",
            "Update 1760/2000 | Avg Reward: 4.08\n",
            "Update 1770/2000 | Avg Reward: 7.11\n",
            "Update 1780/2000 | Avg Reward: 8.22\n",
            "Update 1790/2000 | Avg Reward: 3.20\n",
            "Update 1800/2000 | Avg Reward: 13.11\n",
            "Update 1810/2000 | Avg Reward: 3.87\n",
            "Update 1820/2000 | Avg Reward: -0.86\n",
            "Update 1830/2000 | Avg Reward: -3.07\n",
            "Update 1840/2000 | Avg Reward: 5.17\n",
            "Update 1850/2000 | Avg Reward: 2.19\n",
            "Update 1860/2000 | Avg Reward: 4.22\n",
            "Update 1870/2000 | Avg Reward: 5.40\n",
            "Update 1880/2000 | Avg Reward: 7.13\n",
            "Update 1890/2000 | Avg Reward: 7.37\n",
            "Update 1900/2000 | Avg Reward: 9.15\n",
            "Update 1910/2000 | Avg Reward: 2.81\n",
            "Update 1920/2000 | Avg Reward: 9.48\n",
            "Update 1930/2000 | Avg Reward: 2.15\n",
            "Update 1940/2000 | Avg Reward: 2.30\n",
            "Update 1950/2000 | Avg Reward: 2.21\n",
            "Update 1960/2000 | Avg Reward: 3.51\n",
            "Update 1970/2000 | Avg Reward: 9.20\n",
            "Update 1980/2000 | Avg Reward: 6.19\n",
            "Update 1990/2000 | Avg Reward: 8.13\n",
            "Update 2000/2000 | Avg Reward: 5.41\n"
          ]
        }
      ],
      "source": [
        "# --- Hyperparameters ---\n",
        "gamma = 0.99\n",
        "lam = 0.95\n",
        "num_updates = 2000\n",
        "entropy_coef = 0.05\n",
        "n_epochs = 5\n",
        "mini_batch_size = 32\n",
        "T = 128\n",
        "clip_eps = 0.2\n",
        "\n",
        "# --- Logs ---\n",
        "reward_log = []\n",
        "log_interval = 10\n",
        "\n",
        "# --- Reset env ---\n",
        "obs, _ = env.reset()\n",
        "obs = torch.tensor(obs, dtype=torch.float32, device=device).unsqueeze(0)  # (1, 4, 10, 10)\n",
        "\n",
        "for update in range(num_updates):\n",
        "    states = []\n",
        "    actions = []\n",
        "    log_probs_old = []\n",
        "    values = []\n",
        "    rewards = []\n",
        "    dones = []\n",
        "\n",
        "    # --- Collect rollout of T steps ---\n",
        "    for _ in range(T):\n",
        "        with torch.no_grad():\n",
        "            probs = pi(obs)\n",
        "            dist = Categorical(probs)\n",
        "            action = dist.sample()\n",
        "            log_prob = dist.log_prob(action)\n",
        "            value = V(obs)\n",
        "\n",
        "        next_obs, reward, done, truncated, _ = env.step(action.item())\n",
        "        next_obs = torch.tensor(next_obs, dtype=torch.float32, device=device).unsqueeze(0)\n",
        "\n",
        "        states.append(obs)\n",
        "        actions.append(action)\n",
        "        log_probs_old.append(log_prob)\n",
        "        values.append(value)\n",
        "        rewards.append(torch.tensor([reward], dtype=torch.float32, device=device))\n",
        "        dones.append(torch.tensor([done], dtype=torch.float32, device=device))\n",
        "\n",
        "        obs = next_obs\n",
        "\n",
        "        if done or truncated:\n",
        "            obs, _ = env.reset()\n",
        "            obs = torch.tensor(obs, dtype=torch.float32, device=device).unsqueeze(0)\n",
        "\n",
        "    # --- Bootstrap final value ---\n",
        "    with torch.no_grad():\n",
        "        values.append(V(obs))\n",
        "\n",
        "    # --- Convert to tensors ---\n",
        "    states = torch.cat(states)\n",
        "    actions = torch.stack(actions).squeeze()\n",
        "    log_probs_old = torch.stack(log_probs_old).squeeze()\n",
        "    rewards = torch.stack(rewards).squeeze()\n",
        "    dones = torch.stack(dones).squeeze()\n",
        "    values = torch.cat(values).squeeze()\n",
        "\n",
        "    # --- GAE advantage estimation ---\n",
        "    deltas = rewards + gamma * values[1:] * (1 - dones) - values[:-1]\n",
        "    advantages = torch.zeros_like(deltas)\n",
        "    gae = 0\n",
        "    for t in reversed(range(T)):\n",
        "        gae = deltas[t] + gamma * lam * (1 - dones[t]) * gae\n",
        "        advantages[t] = gae\n",
        "\n",
        "    targets = advantages + values[:-1]\n",
        "\n",
        "    # --- Flatten everything ---\n",
        "    advantages = (advantages - advantages.mean()) / (advantages.std() + 1e-8)\n",
        "\n",
        "    # --- PPO update loop ---\n",
        "    for _ in range(n_epochs):\n",
        "        indices = torch.randperm(T)\n",
        "        for start in range(0, T, mini_batch_size):\n",
        "            end = start + mini_batch_size\n",
        "            batch_idx = indices[start:end]\n",
        "\n",
        "            s_batch = states[batch_idx]\n",
        "            a_batch = actions[batch_idx]\n",
        "            logp_old_batch = log_probs_old[batch_idx]\n",
        "            V_targets = targets[batch_idx]\n",
        "            adv_batch = advantages[batch_idx]\n",
        "\n",
        "            probs = pi(s_batch)\n",
        "            dist = Categorical(probs)\n",
        "            logp = dist.log_prob(a_batch)\n",
        "            entropy = dist.entropy().mean()\n",
        "\n",
        "            ratio = torch.exp(logp - logp_old_batch)\n",
        "            surr1 = ratio * adv_batch\n",
        "            surr2 = torch.clamp(ratio, 1 - clip_eps, 1 + clip_eps) * adv_batch\n",
        "            pi_loss = -torch.min(surr1, surr2).mean()\n",
        "            pi_loss -= entropy_coef * entropy\n",
        "\n",
        "            v_preds = V(s_batch).squeeze()\n",
        "            v_loss = F.mse_loss(v_preds, V_targets)\n",
        "\n",
        "            pi_optimizer.zero_grad()\n",
        "            pi_loss.backward()\n",
        "            pi_optimizer.step()\n",
        "\n",
        "            V_optimizer.zero_grad()\n",
        "            v_loss.backward()\n",
        "            V_optimizer.step()\n",
        "\n",
        "    # --- Reward logging ---\n",
        "    ep_reward = rewards.sum().item()\n",
        "    reward_log.append(ep_reward)\n",
        "\n",
        "    if (update + 1) % log_interval == 0:\n",
        "        avg_reward = np.mean(reward_log[-log_interval:])\n",
        "        print(f\"Update {update+1}/{num_updates} | Avg Reward: {avg_reward:.2f}\")"
      ]
    },
    {
      "cell_type": "code",
      "execution_count": null,
      "metadata": {
        "colab": {
          "base_uri": "https://localhost:8080/",
          "height": 487
        },
        "id": "q_is87d3o1_I",
        "outputId": "743e4b1c-0f8f-4d3f-8801-1794c6098afb"
      },
      "outputs": [
        {
          "output_type": "display_data",
          "data": {
            "text/plain": [
              "<Figure size 800x500 with 1 Axes>"
            ],
            "image/png": "[encoded data removed]"
          },
          "metadata": {}
        }
      ],
      "source": [
        "\n",
        "# Plots Rewards\n",
        "\n",
        "import matplotlib.pyplot as plt\n",
        "# --- Plot rewards ---\n",
        "plt.figure(figsize=(8,5))\n",
        "plt.plot(reward_log)\n",
        "plt.xlabel('Episode')\n",
        "plt.ylabel('Total Reward')\n",
        "plt.title('PPO Snake Training Progress')\n",
        "plt.grid(True)\n",
        "plt.show()"
      ]
    },
    {
      "cell_type": "code",
      "execution_count": null,
      "metadata": {
        "colab": {
          "base_uri": "https://localhost:8080/"
        },
        "id": "zrwuv46EnFg8",
        "outputId": "74f278db-3b4d-4d55-e220-e0a4651c7ee9"
      },
      "outputs": [
        {
          "output_type": "stream",
          "name": "stdout",
          "text": [
            "......𓆗==.\n",
            "........=.\n",
            "..........\n",
            "..........\n",
            "..........\n",
            "..........\n",
            "..........\n",
            "..........\n",
            ".........F\n",
            "..........\n",
            "\n",
            "\n",
            "Total reward from greedy episode: 22.240000000000293\n"
          ]
        }
      ],
      "source": [
        "import torch\n",
        "import time\n",
        "from IPython.display import clear_output\n",
        "\n",
        "# --- Greedy Episode Visualization using PPO policy ---\n",
        "env = OneHotObsWrapper(gym.make(\"Snake-10x10-v0\"))\n",
        "state, _ = env.reset()\n",
        "done = False\n",
        "truncated = False\n",
        "total_reward = 0\n",
        "\n",
        "while not done and not truncated:\n",
        "    clear_output(wait=True)\n",
        "    env.render()\n",
        "    time.sleep(0.3)\n",
        "\n",
        "    # Greedy action from PPO policy\n",
        "    with torch.no_grad():\n",
        "        state_tensor = torch.tensor(state, dtype=torch.float32).unsqueeze(0).to(device)  # (1, 4, 10, 10)\n",
        "        action_probs = pi(state_tensor)  # Output shape: (1, 4)\n",
        "        action = torch.argmax(action_probs, dim=1).item()\n",
        "\n",
        "    state, reward, done, truncated, _ = env.step(action)\n",
        "    total_reward += reward\n",
        "\n",
        "# Final frame\n",
        "clear_output(wait=True)\n",
        "env.render()\n",
        "print(f\"\\nTotal reward from greedy episode: {total_reward}\")\n",
        "env.close()"
      ]
    }
  ],
  "metadata": {
    "accelerator": "GPU",
    "colab": {
      "gpuType": "T4",
      "provenance": []
    },
    "kernelspec": {
      "display_name": "Python 3",
      "name": "python3"
    },
    "language_info": {
      "name": "python"
    }
  },
  "nbformat": 4,
  "nbformat_minor": 0
}